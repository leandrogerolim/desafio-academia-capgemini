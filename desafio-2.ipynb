{
  "nbformat": 4,
  "nbformat_minor": 0,
  "metadata": {
    "colab": {
      "name": "desafio-2.ipynb",
      "provenance": [],
      "collapsed_sections": [],
      "authorship_tag": "ABX9TyMbsLDerFZipRIdHqApv7Vs",
      "include_colab_link": true
    },
    "kernelspec": {
      "name": "python3",
      "display_name": "Python 3"
    },
    "language_info": {
      "name": "python"
    }
  },
  "cells": [
    {
      "cell_type": "markdown",
      "metadata": {
        "id": "view-in-github",
        "colab_type": "text"
      },
      "source": [
        "<a href=\"https://colab.research.google.com/github/leandrogerolim/desafio-academia-capgemini/blob/main/desafio-2.ipynb\" target=\"_parent\"><img src=\"https://colab.research.google.com/assets/colab-badge.svg\" alt=\"Open In Colab\"/></a>"
      ]
    },
    {
      "cell_type": "code",
      "execution_count": 1,
      "metadata": {
        "colab": {
          "base_uri": "https://localhost:8080/"
        },
        "id": "odCILURWcDuD",
        "outputId": "0ae11a83-3932-4a56-dc89-12c3dd90b5c6"
      },
      "outputs": [
        {
          "output_type": "stream",
          "name": "stdout",
          "text": [
            "Senha gerada:  UpI#V98\n",
            "Sua senha é segura!\n"
          ]
        }
      ],
      "source": [
        "valorMin = 6 \n",
        "import random\n",
        "from random import choice\n",
        "import string\n",
        "\n",
        "string.ascii_lowercase # abcdefghijklmnopqrstuvwxyz\n",
        "string.ascii_uppercase # ABCDEFGHIJKLMNOPQRSTUVWXYZ\n",
        "string.ascii_letters # abcdefghijklmnopqrstuvwxyzABCDEFGHIJKLMNOPQRSTUVWXYZ\n",
        "string.digits # 0123456789\n",
        "string.punctuation # !@#$%^&*()-+\n",
        "\n",
        "tamanhoSenha = int(random.randint(1,10))\n",
        "caracteres = string.ascii_letters + string.digits + string.punctuation\n",
        "senha = ''\n",
        "#lenSenha = int(len(senha))\n",
        "#lenSenha = int(lenSenha)\n",
        "\n",
        "for i in range(tamanhoSenha):\n",
        "  senha += choice(caracteres)\n",
        "\n",
        "senhaCerta = int(len(senha))\n",
        "senhaCerta = int(senhaCerta)\n",
        "\n",
        "print ('Senha gerada: ', senha)\n",
        "\n",
        "if senhaCerta >= valorMin:\n",
        "  print ('Sua senha é segura!')\n",
        "\n",
        "adicionar = (valorMin - senhaCerta)\n",
        "\n",
        "if adicionar == 1:\n",
        "  print ('Você precisa adicionar mais', adicionar, 'caracter')\n",
        "\n",
        "if senhaCerta <= 4:\n",
        "   print ('Você precisa adicionar mais', adicionar, 'caracteres')"
      ]
    }
  ]
}