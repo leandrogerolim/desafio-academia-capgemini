{
  "nbformat": 4,
  "nbformat_minor": 0,
  "metadata": {
    "colab": {
      "name": "desafio-1.ipynb",
      "provenance": [],
      "collapsed_sections": [],
      "authorship_tag": "ABX9TyOL+LS/czjYv9DXHwjjKf2H",
      "include_colab_link": true
    },
    "kernelspec": {
      "name": "python3",
      "display_name": "Python 3"
    },
    "language_info": {
      "name": "python"
    }
  },
  "cells": [
    {
      "cell_type": "markdown",
      "metadata": {
        "id": "view-in-github",
        "colab_type": "text"
      },
      "source": [
        "<a href=\"https://colab.research.google.com/github/leandrogerolim/desafio-academia-capgemini/blob/main/desafio-1.ipynb\" target=\"_parent\"><img src=\"https://colab.research.google.com/assets/colab-badge.svg\" alt=\"Open In Colab\"/></a>"
      ]
    },
    {
      "cell_type": "code",
      "execution_count": 1,
      "metadata": {
        "colab": {
          "base_uri": "https://localhost:8080/"
        },
        "id": "SH59uT2gclqw",
        "outputId": "941e42a0-9c74-4be5-cfa4-afffa1249439"
      },
      "outputs": [
        {
          "output_type": "stream",
          "name": "stdout",
          "text": [
            "o valor gerado aleatoriamente é:  18\n",
            "                 *\n",
            "                **\n",
            "               ***\n",
            "              ****\n",
            "             *****\n",
            "            ******\n",
            "           *******\n",
            "          ********\n",
            "         *********\n",
            "        **********\n",
            "       ***********\n",
            "      ************\n",
            "     *************\n",
            "    **************\n",
            "   ***************\n",
            "  ****************\n",
            " *****************\n",
            "******************\n"
          ]
        }
      ],
      "source": [
        "import random # Importando a biblioteca random\n",
        "valor = random.randint(0,99) # feito a definição da variavel (valor) \n",
        "i = 0 # Definido o valor da variavel (i)\n",
        "\n",
        "print (\"o valor gerado aleatoriamente é: \" , valor) # execução do print para utilizar como gabarito\n",
        "for i in range(valor + i): # Definido que enquanto o valor de (i) estiver no range de (valor) é necessario somar + (i)\n",
        "  espaco = (valor - (1+i)) # Variavel (espaco) quem recebe o valor de (valor - (1+1))\n",
        "  branco = (\" \" * espaco) # variavel para gerar quantos espaços em branco vão ser impressos \n",
        "  asterisco = (\"*\" *(1+i)) #variavel para definir quantos asteriscos vao ser impressos\n",
        "  print (branco+asterisco) #print final com o resultado do valor aleatorio gerado e definindo quantas colunas vão ter na escada\n"
      ]
    }
  ]
}