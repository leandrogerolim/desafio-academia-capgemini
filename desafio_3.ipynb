{
  "nbformat": 4,
  "nbformat_minor": 0,
  "metadata": {
    "colab": {
      "name": "desafio-3.ipynb",
      "provenance": [],
      "collapsed_sections": [],
      "authorship_tag": "ABX9TyM4T8Ou+1y4XX+EM/wW6WFC",
      "include_colab_link": true
    },
    "kernelspec": {
      "name": "python3",
      "display_name": "Python 3"
    },
    "language_info": {
      "name": "python"
    }
  },
  "cells": [
    {
      "cell_type": "markdown",
      "metadata": {
        "id": "view-in-github",
        "colab_type": "text"
      },
      "source": [
        "<a href=\"https://colab.research.google.com/github/leandrogerolim/desafio-academia-capgemini/blob/main/desafio_3.ipynb\" target=\"_parent\"><img src=\"https://colab.research.google.com/assets/colab-badge.svg\" alt=\"Open In Colab\"/></a>"
      ]
    },
    {
      "cell_type": "code",
      "source": [
        "import random\n",
        "from random import choice #importar bibliotecas\n",
        "import string\n",
        " \n",
        "tamanhoPalavra = int (random.randint(1,20)) # variável definindo quantidade de caracteres da palavra \n",
        "caracteres = string.ascii_lowercase #variável definindo o tipo de caracteres \n",
        "palavra = '' #variável que armazena os valores \n",
        "\n",
        "for i in range(tamanhoPalavra): #definindo enquanto (i) estiver no range do tamanho da palavra\n",
        "  palavra += choice(caracteres) # concatena ou soma os valores na variável (palavra)\n",
        "\n",
        "print ('Palavra gerada: ', palavra) #imprime a palavra para gabarito\n",
        "\n",
        "anagramas = [] #criação da lista dentro da variável (anagrama)\n",
        "# for definindo range e concatenando a variável (palavra)\n",
        "\n",
        "for i in range(len(palavra)):\n",
        "  auxPalavra = palavra[i]\n",
        "  for y in range(i, len(palavra)):\n",
        "    if y == i:\n",
        "      auxPalavra = auxPalavra\n",
        "    else:\n",
        "      auxPalavra += palavra[y] #else concatenando as posições que podem ser repetidas na (auxpalavra)\n",
        "    anagramas += [''.join(sorted(auxPalavra))]\n",
        "  \n",
        "contAnagramas = 0  # contador inicial da variável (contAnagramas)\n",
        "\n",
        "for i in range(len(anagramas)): # for para avaliar se a varialvel (anagramas) está dentro do range quando true ele faz i+1\n",
        "  for y in range(i + 1, len(anagramas)):\n",
        "    if anagramas [y] == anagramas[i]:\n",
        "      contAnagramas +=(1)\n",
        "\n",
        "totalAnagramas = contAnagramas #variável com valor total da contagem de pares do anagrama\n",
        "\n",
        "print('Quantidade de Anagramas: ', totalAnagramas) #print com o valor final de anagramas"
      ],
      "metadata": {
        "colab": {
          "base_uri": "https://localhost:8080/"
        },
        "id": "O1J_xxM0Khqn",
        "outputId": "6002022e-21ad-4cf2-f65d-6ac2ba23581c"
      },
      "execution_count": 5,
      "outputs": [
        {
          "output_type": "stream",
          "name": "stdout",
          "text": [
            "Palavra gerada:  mtiihxpmzt\n",
            "Quantidade de Anagramas:  5\n"
          ]
        }
      ]
    },
    {
      "cell_type": "code",
      "source": [
        ""
      ],
      "metadata": {
        "id": "UoZ_24FnU9A_"
      },
      "execution_count": null,
      "outputs": []
    }
  ]
}